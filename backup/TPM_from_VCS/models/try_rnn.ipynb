{
 "cells": [
  {
   "cell_type": "code",
   "execution_count": 13,
   "metadata": {},
   "outputs": [],
   "source": [
    "import keras\n",
    "import tensorflow as tf\n",
    "from tensorflow.keras import layers\n",
    "import numpy as np\n",
    "import os\n",
    "import time\n",
    "\n",
    "from keras.models import Sequential\n",
    "from keras.layers import Dense\n",
    "from keras.layers import LSTM\n",
    "from keras.layers import RepeatVector"
   ]
  },
  {
   "cell_type": "code",
   "execution_count": 17,
   "metadata": {},
   "outputs": [],
   "source": [
    "import util.broadcast_vector as BV\n",
    "import util.tpm_from_vcs as get_TPM"
   ]
  },
  {
   "cell_type": "code",
   "execution_count": 18,
   "metadata": {},
   "outputs": [],
   "source": [
    "np.random.seed(23)\n",
    "MAX_NODES = 100 # Atmost 10 points in the network for now\n",
    "MAX_VC_DIM = 10\n",
    "HIDDEN_SIZE = 1024"
   ]
  },
  {
   "cell_type": "code",
   "execution_count": 19,
   "metadata": {},
   "outputs": [],
   "source": [
    "def create_dataset(size):\n",
    "    X = [] # array of tuples\n",
    "    y = []\n",
    "    \n",
    "    \n",
    "    for i in range(0, size):\n",
    "        # effectively 100 numbers in one-timestep is fed into rnn (m distances)\n",
    "        m = np.random.randint(low=3, high=10)\n",
    "        # number of anchors could be 1% of total nodes\n",
    "        n = np.random.randint(low=m, high=100) \n",
    "        P = np.random.rand(n, m)\n",
    "\n",
    "        ans = get_TPM.generate_tpm_from_vcs(P)\n",
    "\n",
    "        if np.iscomplex(ans.flatten()).any():\n",
    "            print(\"Is the TC matrix complex : {}\".format(np.iscomplex(ans.flatten())))\n",
    "        \n",
    "        # broadcast the input vector into MAX_VC_DIM length\n",
    "        P = BV.get_vector(MAX_VC_DIM, P)\n",
    "        ans = BV.get_vector(MAX_VC_DIM, ans)\n",
    "\n",
    "        # dataset[i] = (P.tolist(), ans.tolist())\n",
    "#         dataset.append((P, ans))\n",
    "        X.append(P)\n",
    "        y.append(ans)\n",
    "    \n",
    "    return np.array(X, dtype=np.float32), np.array(y, dtype=np.float32)"
   ]
  },
  {
   "cell_type": "code",
   "execution_count": 8,
   "metadata": {},
   "outputs": [
    {
     "name": "stdout",
     "output_type": "stream",
     "text": [
      "_________________________________________________________________\n",
      "Layer (type)                 Output Shape              Param #   \n",
      "=================================================================\n",
      "lstm_3 (LSTM)                (None, 1024)              4239360   \n",
      "_________________________________________________________________\n",
      "repeat_vector_2 (RepeatVecto (None, 100, 1024)         0         \n",
      "_________________________________________________________________\n",
      "lstm_4 (LSTM)                (None, 100, 1024)         8392704   \n",
      "_________________________________________________________________\n",
      "dense_2 (Dense)              (None, 100, 10)           10250     \n",
      "=================================================================\n",
      "Total params: 12,642,314\n",
      "Trainable params: 12,642,314\n",
      "Non-trainable params: 0\n",
      "_________________________________________________________________\n"
     ]
    }
   ],
   "source": [
    "# create and fit the LSTM network\n",
    "model = Sequential()\n",
    "model.add(LSTM(HIDDEN_SIZE, input_shape=(MAX_NODES, MAX_VC_DIM)))\n",
    "model.add(RepeatVector(MAX_NODES))\n",
    "model.add(LSTM(HIDDEN_SIZE, return_sequences=True))\n",
    "model.add(Dense(MAX_VC_DIM))\n",
    "\n",
    "model.compile(loss='mean_squared_error',\n",
    "              optimizer='adam',\n",
    "              metrics=['accuracy'])\n",
    "model.summary()"
   ]
  },
  {
   "cell_type": "code",
   "execution_count": 9,
   "metadata": {},
   "outputs": [],
   "source": [
    "inp_data = np.random.randn(2, 100, 10)"
   ]
  },
  {
   "cell_type": "code",
   "execution_count": 10,
   "metadata": {},
   "outputs": [],
   "source": [
    "out_data = np.random.randn(2, 100, 10)"
   ]
  },
  {
   "cell_type": "code",
   "execution_count": 11,
   "metadata": {},
   "outputs": [
    {
     "name": "stdout",
     "output_type": "stream",
     "text": [
      "WARNING:tensorflow:From /home/keshava/anaconda3/lib/python3.7/site-packages/tensorflow/python/ops/math_ops.py:3066: to_int32 (from tensorflow.python.ops.math_ops) is deprecated and will be removed in a future version.\n",
      "Instructions for updating:\n",
      "Use tf.cast instead.\n",
      "Epoch 1/1\n",
      "2/2 [==============================] - 5s 3s/step - loss: 1.0002 - acc: 0.1000\n"
     ]
    },
    {
     "data": {
      "text/plain": [
       "<keras.callbacks.History at 0x7fbe6c3b7470>"
      ]
     },
     "execution_count": 11,
     "metadata": {},
     "output_type": "execute_result"
    }
   ],
   "source": [
    "model.fit(inp_data, out_data, epochs=1)"
   ]
  },
  {
   "cell_type": "code",
   "execution_count": 21,
   "metadata": {},
   "outputs": [],
   "source": [
    "X, y = create_dataset(10)"
   ]
  },
  {
   "cell_type": "code",
   "execution_count": 22,
   "metadata": {},
   "outputs": [
    {
     "data": {
      "text/plain": [
       "(10, 100, 10)"
      ]
     },
     "execution_count": 22,
     "metadata": {},
     "output_type": "execute_result"
    }
   ],
   "source": [
    "X.shape"
   ]
  },
  {
   "cell_type": "code",
   "execution_count": 23,
   "metadata": {},
   "outputs": [
    {
     "data": {
      "text/plain": [
       "(10, 100, 10)"
      ]
     },
     "execution_count": 23,
     "metadata": {},
     "output_type": "execute_result"
    }
   ],
   "source": [
    "y.shape"
   ]
  },
  {
   "cell_type": "code",
   "execution_count": 24,
   "metadata": {},
   "outputs": [
    {
     "name": "stdout",
     "output_type": "stream",
     "text": [
      "Train on 6 samples, validate on 4 samples\n",
      "Epoch 1/100\n",
      "6/6 [==============================] - 4s 586ms/step - loss: 0.0128 - acc: 0.6383 - val_loss: 0.0162 - val_acc: 0.0000e+00\n",
      "Epoch 2/100\n",
      "6/6 [==============================] - 3s 552ms/step - loss: 0.0130 - acc: 0.0000e+00 - val_loss: 0.0165 - val_acc: 0.1750\n",
      "Epoch 3/100\n",
      "6/6 [==============================] - 3s 570ms/step - loss: 0.0129 - acc: 0.0000e+00 - val_loss: 0.0163 - val_acc: 0.0850\n",
      "Epoch 4/100\n",
      "6/6 [==============================] - 3s 559ms/step - loss: 0.0127 - acc: 0.0983 - val_loss: 0.0163 - val_acc: 0.5250\n",
      "Epoch 5/100\n",
      "6/6 [==============================] - 3s 559ms/step - loss: 0.0128 - acc: 0.6383 - val_loss: 0.0164 - val_acc: 0.5300\n",
      "Epoch 6/100\n",
      "6/6 [==============================] - 3s 546ms/step - loss: 0.0128 - acc: 0.6383 - val_loss: 0.0163 - val_acc: 0.2025\n",
      "Epoch 7/100\n",
      "6/6 [==============================] - 3s 566ms/step - loss: 0.0128 - acc: 0.0800 - val_loss: 0.0161 - val_acc: 0.2025\n",
      "Epoch 8/100\n",
      "6/6 [==============================] - 4s 602ms/step - loss: 0.0127 - acc: 0.0550 - val_loss: 0.0160 - val_acc: 0.0750\n",
      "Epoch 9/100\n",
      "6/6 [==============================] - 3s 577ms/step - loss: 0.0127 - acc: 0.1117 - val_loss: 0.0160 - val_acc: 0.0125\n",
      "Epoch 10/100\n",
      "6/6 [==============================] - 3s 569ms/step - loss: 0.0127 - acc: 0.0600 - val_loss: 0.0160 - val_acc: 0.0075\n",
      "Epoch 11/100\n",
      "6/6 [==============================] - 3s 563ms/step - loss: 0.0127 - acc: 0.0583 - val_loss: 0.0159 - val_acc: 0.0050\n",
      "Epoch 12/100\n",
      "6/6 [==============================] - 3s 565ms/step - loss: 0.0127 - acc: 0.0517 - val_loss: 0.0159 - val_acc: 0.0075\n",
      "Epoch 13/100\n",
      "6/6 [==============================] - 3s 549ms/step - loss: 0.0127 - acc: 0.0567 - val_loss: 0.0160 - val_acc: 0.0125\n",
      "Epoch 14/100\n",
      "6/6 [==============================] - 3s 560ms/step - loss: 0.0127 - acc: 0.0650 - val_loss: 0.0160 - val_acc: 0.0125\n",
      "Epoch 15/100\n",
      "6/6 [==============================] - 3s 561ms/step - loss: 0.0127 - acc: 0.0200 - val_loss: 0.0160 - val_acc: 0.0075\n",
      "Epoch 16/100\n",
      "6/6 [==============================] - 3s 566ms/step - loss: 0.0127 - acc: 0.0117 - val_loss: 0.0160 - val_acc: 0.0050\n",
      "Epoch 17/100\n",
      "6/6 [==============================] - 4s 586ms/step - loss: 0.0127 - acc: 0.0767 - val_loss: 0.0159 - val_acc: 0.0050\n",
      "Epoch 18/100\n",
      "6/6 [==============================] - 3s 559ms/step - loss: 0.0127 - acc: 0.0567 - val_loss: 0.0159 - val_acc: 0.0100\n",
      "Epoch 19/100\n",
      "6/6 [==============================] - 3s 558ms/step - loss: 0.0127 - acc: 0.0633 - val_loss: 0.0159 - val_acc: 0.0125\n",
      "Epoch 20/100\n",
      "6/6 [==============================] - 3s 579ms/step - loss: 0.0127 - acc: 0.0717 - val_loss: 0.0159 - val_acc: 0.0125\n",
      "Epoch 21/100\n",
      "6/6 [==============================] - 4s 677ms/step - loss: 0.0127 - acc: 0.0700 - val_loss: 0.0159 - val_acc: 0.0125\n",
      "Epoch 22/100\n",
      "6/6 [==============================] - 4s 639ms/step - loss: 0.0127 - acc: 0.1150 - val_loss: 0.0159 - val_acc: 0.0125\n",
      "Epoch 23/100\n",
      "6/6 [==============================] - 4s 624ms/step - loss: 0.0127 - acc: 0.1100 - val_loss: 0.0159 - val_acc: 0.0100\n",
      "Epoch 24/100\n",
      "6/6 [==============================] - 4s 715ms/step - loss: 0.0127 - acc: 0.0583 - val_loss: 0.0159 - val_acc: 0.0075\n",
      "Epoch 25/100\n",
      "6/6 [==============================] - 4s 614ms/step - loss: 0.0127 - acc: 0.0600 - val_loss: 0.0159 - val_acc: 0.0075\n",
      "Epoch 26/100\n",
      "6/6 [==============================] - 3s 555ms/step - loss: 0.0127 - acc: 0.0600 - val_loss: 0.0160 - val_acc: 0.0050\n",
      "Epoch 27/100\n",
      "6/6 [==============================] - 3s 572ms/step - loss: 0.0127 - acc: 0.0600 - val_loss: 0.0160 - val_acc: 0.0650\n",
      "Epoch 28/100\n",
      "6/6 [==============================] - 3s 549ms/step - loss: 0.0127 - acc: 0.1417 - val_loss: 0.0159 - val_acc: 0.0675\n",
      "Epoch 29/100\n",
      "6/6 [==============================] - 4s 608ms/step - loss: 0.0127 - acc: 0.1483 - val_loss: 0.0159 - val_acc: 0.0075\n",
      "Epoch 30/100\n",
      "6/6 [==============================] - 3s 572ms/step - loss: 0.0127 - acc: 0.1000 - val_loss: 0.0159 - val_acc: 0.0075\n",
      "Epoch 31/100\n",
      "6/6 [==============================] - 3s 574ms/step - loss: 0.0127 - acc: 0.0667 - val_loss: 0.0159 - val_acc: 0.3050\n",
      "Epoch 32/100\n",
      "6/6 [==============================] - 4s 586ms/step - loss: 0.0127 - acc: 0.5233 - val_loss: 0.0159 - val_acc: 0.3125\n",
      "Epoch 33/100\n",
      "6/6 [==============================] - 3s 556ms/step - loss: 0.0127 - acc: 0.5350 - val_loss: 0.0159 - val_acc: 0.3150\n",
      "Epoch 34/100\n",
      "6/6 [==============================] - 3s 554ms/step - loss: 0.0127 - acc: 0.5383 - val_loss: 0.0159 - val_acc: 0.3175\n",
      "Epoch 35/100\n",
      "6/6 [==============================] - 3s 557ms/step - loss: 0.0127 - acc: 0.5417 - val_loss: 0.0159 - val_acc: 0.0125\n",
      "Epoch 36/100\n",
      "6/6 [==============================] - 3s 573ms/step - loss: 0.0127 - acc: 0.0783 - val_loss: 0.0159 - val_acc: 0.0100\n",
      "Epoch 37/100\n",
      "6/6 [==============================] - 3s 549ms/step - loss: 0.0127 - acc: 0.0717 - val_loss: 0.0159 - val_acc: 0.0100\n",
      "Epoch 38/100\n",
      "6/6 [==============================] - 3s 551ms/step - loss: 0.0127 - acc: 0.0667 - val_loss: 0.0159 - val_acc: 0.0150\n",
      "Epoch 39/100\n",
      "6/6 [==============================] - 3s 551ms/step - loss: 0.0127 - acc: 0.1067 - val_loss: 0.0159 - val_acc: 0.0750\n",
      "Epoch 40/100\n",
      "6/6 [==============================] - 3s 552ms/step - loss: 0.0127 - acc: 0.1533 - val_loss: 0.0159 - val_acc: 0.0750\n",
      "Epoch 41/100\n",
      "6/6 [==============================] - 3s 554ms/step - loss: 0.0127 - acc: 0.1200 - val_loss: 0.0159 - val_acc: 0.0175\n",
      "Epoch 42/100\n",
      "6/6 [==============================] - 3s 555ms/step - loss: 0.0127 - acc: 0.0750 - val_loss: 0.0159 - val_acc: 0.0100\n",
      "Epoch 43/100\n",
      "6/6 [==============================] - 3s 545ms/step - loss: 0.0127 - acc: 0.0667 - val_loss: 0.0159 - val_acc: 0.0100\n",
      "Epoch 44/100\n",
      "6/6 [==============================] - 3s 555ms/step - loss: 0.0127 - acc: 0.0650 - val_loss: 0.0159 - val_acc: 0.0100\n",
      "Epoch 45/100\n",
      "6/6 [==============================] - 3s 559ms/step - loss: 0.0127 - acc: 0.0650 - val_loss: 0.0159 - val_acc: 0.0100\n",
      "Epoch 46/100\n",
      "6/6 [==============================] - 3s 583ms/step - loss: 0.0127 - acc: 0.0650 - val_loss: 0.0159 - val_acc: 0.0100\n",
      "Epoch 47/100\n",
      "6/6 [==============================] - 3s 558ms/step - loss: 0.0127 - acc: 0.0650 - val_loss: 0.0159 - val_acc: 0.0100\n",
      "Epoch 48/100\n",
      "6/6 [==============================] - 3s 553ms/step - loss: 0.0127 - acc: 0.0650 - val_loss: 0.0159 - val_acc: 0.0100\n",
      "Epoch 49/100\n",
      "6/6 [==============================] - 3s 550ms/step - loss: 0.0127 - acc: 0.0650 - val_loss: 0.0159 - val_acc: 0.0100\n",
      "Epoch 50/100\n",
      "6/6 [==============================] - 3s 554ms/step - loss: 0.0127 - acc: 0.0650 - val_loss: 0.0159 - val_acc: 0.0100\n",
      "Epoch 51/100\n",
      "6/6 [==============================] - 3s 566ms/step - loss: 0.0127 - acc: 0.0650 - val_loss: 0.0159 - val_acc: 0.0150\n",
      "Epoch 52/100\n",
      "6/6 [==============================] - 3s 555ms/step - loss: 0.0127 - acc: 0.0717 - val_loss: 0.0159 - val_acc: 0.0100\n",
      "Epoch 53/100\n",
      "6/6 [==============================] - 3s 562ms/step - loss: 0.0127 - acc: 0.0650 - val_loss: 0.0159 - val_acc: 0.0100\n",
      "Epoch 54/100\n",
      "6/6 [==============================] - 3s 576ms/step - loss: 0.0127 - acc: 0.0650 - val_loss: 0.0159 - val_acc: 0.0100\n",
      "Epoch 55/100\n",
      "6/6 [==============================] - 3s 555ms/step - loss: 0.0127 - acc: 0.0650 - val_loss: 0.0159 - val_acc: 0.0100\n",
      "Epoch 56/100\n",
      "6/6 [==============================] - 3s 550ms/step - loss: 0.0127 - acc: 0.0650 - val_loss: 0.0159 - val_acc: 0.0100\n",
      "Epoch 57/100\n",
      "6/6 [==============================] - 4s 614ms/step - loss: 0.0127 - acc: 0.0650 - val_loss: 0.0159 - val_acc: 0.0100\n",
      "Epoch 58/100\n",
      "6/6 [==============================] - 4s 671ms/step - loss: 0.0127 - acc: 0.0633 - val_loss: 0.0159 - val_acc: 0.0075\n",
      "Epoch 59/100\n",
      "6/6 [==============================] - 4s 588ms/step - loss: 0.0127 - acc: 0.0633 - val_loss: 0.0159 - val_acc: 0.0125\n",
      "Epoch 60/100\n",
      "6/6 [==============================] - 4s 642ms/step - loss: 0.0127 - acc: 0.0633 - val_loss: 0.0159 - val_acc: 0.0075\n",
      "Epoch 61/100\n",
      "6/6 [==============================] - 4s 615ms/step - loss: 0.0126 - acc: 0.0617 - val_loss: 0.0159 - val_acc: 0.0075\n",
      "Epoch 62/100\n",
      "6/6 [==============================] - 3s 565ms/step - loss: 0.0126 - acc: 0.0583 - val_loss: 0.0159 - val_acc: 0.0100\n"
     ]
    },
    {
     "name": "stdout",
     "output_type": "stream",
     "text": [
      "Epoch 63/100\n",
      "6/6 [==============================] - 4s 639ms/step - loss: 0.0126 - acc: 0.0600 - val_loss: 0.0160 - val_acc: 0.0100\n",
      "Epoch 64/100\n",
      "6/6 [==============================] - 4s 624ms/step - loss: 0.0126 - acc: 0.0550 - val_loss: 0.0159 - val_acc: 0.1550\n",
      "Epoch 65/100\n",
      "6/6 [==============================] - 4s 599ms/step - loss: 0.0127 - acc: 0.1783 - val_loss: 0.0161 - val_acc: 0.0150\n",
      "Epoch 66/100\n",
      "6/6 [==============================] - 4s 606ms/step - loss: 0.0128 - acc: 0.0183 - val_loss: 0.0159 - val_acc: 0.1850\n",
      "Epoch 67/100\n",
      "6/6 [==============================] - 4s 607ms/step - loss: 0.0127 - acc: 0.1517 - val_loss: 0.0159 - val_acc: 0.2625\n",
      "Epoch 68/100\n",
      "6/6 [==============================] - 4s 639ms/step - loss: 0.0127 - acc: 0.2017 - val_loss: 0.0159 - val_acc: 0.0275\n",
      "Epoch 69/100\n",
      "6/6 [==============================] - 4s 601ms/step - loss: 0.0127 - acc: 0.0667 - val_loss: 0.0159 - val_acc: 0.0150\n",
      "Epoch 70/100\n",
      "6/6 [==============================] - 3s 550ms/step - loss: 0.0127 - acc: 0.0200 - val_loss: 0.0159 - val_acc: 0.0150\n",
      "Epoch 71/100\n",
      "6/6 [==============================] - 3s 554ms/step - loss: 0.0127 - acc: 0.0200 - val_loss: 0.0159 - val_acc: 0.0200\n",
      "Epoch 72/100\n",
      "6/6 [==============================] - 4s 642ms/step - loss: 0.0127 - acc: 0.0700 - val_loss: 0.0159 - val_acc: 0.3200\n",
      "Epoch 73/100\n",
      "6/6 [==============================] - 4s 650ms/step - loss: 0.0127 - acc: 0.5433 - val_loss: 0.0159 - val_acc: 0.3975\n",
      "Epoch 74/100\n",
      "6/6 [==============================] - 3s 538ms/step - loss: 0.0127 - acc: 0.6100 - val_loss: 0.0159 - val_acc: 0.3875\n",
      "Epoch 75/100\n",
      "6/6 [==============================] - 4s 660ms/step - loss: 0.0127 - acc: 0.5617 - val_loss: 0.0159 - val_acc: 0.0875\n",
      "Epoch 76/100\n",
      "6/6 [==============================] - 4s 619ms/step - loss: 0.0127 - acc: 0.0700 - val_loss: 0.0159 - val_acc: 0.0875\n",
      "Epoch 77/100\n",
      "6/6 [==============================] - 3s 575ms/step - loss: 0.0127 - acc: 0.0667 - val_loss: 0.0159 - val_acc: 0.0900\n",
      "Epoch 78/100\n",
      "6/6 [==============================] - 3s 565ms/step - loss: 0.0127 - acc: 0.0300 - val_loss: 0.0159 - val_acc: 0.0925\n",
      "Epoch 79/100\n",
      "6/6 [==============================] - 4s 627ms/step - loss: 0.0127 - acc: 0.0733 - val_loss: 0.0159 - val_acc: 0.1050\n",
      "Epoch 80/100\n",
      "6/6 [==============================] - 4s 614ms/step - loss: 0.0126 - acc: 0.1000 - val_loss: 0.0159 - val_acc: 0.1250\n",
      "Epoch 81/100\n",
      "6/6 [==============================] - 4s 600ms/step - loss: 0.0126 - acc: 0.1383 - val_loss: 0.0159 - val_acc: 0.3925\n",
      "Epoch 82/100\n",
      "6/6 [==============================] - 4s 643ms/step - loss: 0.0126 - acc: 0.5583 - val_loss: 0.0159 - val_acc: 0.3900\n",
      "Epoch 83/100\n",
      "6/6 [==============================] - 4s 681ms/step - loss: 0.0126 - acc: 0.5550 - val_loss: 0.0159 - val_acc: 0.1275\n",
      "Epoch 84/100\n",
      "6/6 [==============================] - 4s 589ms/step - loss: 0.0126 - acc: 0.1400 - val_loss: 0.0159 - val_acc: 0.0900\n",
      "Epoch 85/100\n",
      "6/6 [==============================] - 3s 583ms/step - loss: 0.0126 - acc: 0.0800 - val_loss: 0.0159 - val_acc: 0.0275\n",
      "Epoch 86/100\n",
      "6/6 [==============================] - 4s 585ms/step - loss: 0.0126 - acc: 0.0917 - val_loss: 0.0159 - val_acc: 0.0325\n",
      "Epoch 87/100\n",
      "6/6 [==============================] - 3s 560ms/step - loss: 0.0126 - acc: 0.1233 - val_loss: 0.0159 - val_acc: 0.2925\n",
      "Epoch 88/100\n",
      "6/6 [==============================] - 4s 585ms/step - loss: 0.0126 - acc: 0.4567 - val_loss: 0.0159 - val_acc: 0.0600\n",
      "Epoch 89/100\n",
      "6/6 [==============================] - 3s 559ms/step - loss: 0.0126 - acc: 0.1500 - val_loss: 0.0159 - val_acc: 0.3075\n",
      "Epoch 90/100\n",
      "6/6 [==============================] - 4s 628ms/step - loss: 0.0126 - acc: 0.5133 - val_loss: 0.0159 - val_acc: 0.3050\n",
      "Epoch 91/100\n",
      "6/6 [==============================] - 4s 665ms/step - loss: 0.0126 - acc: 0.5083 - val_loss: 0.0160 - val_acc: 0.0775\n",
      "Epoch 92/100\n",
      "6/6 [==============================] - 4s 646ms/step - loss: 0.0126 - acc: 0.1750 - val_loss: 0.0160 - val_acc: 0.0400\n",
      "Epoch 93/100\n",
      "6/6 [==============================] - 4s 604ms/step - loss: 0.0126 - acc: 0.1417 - val_loss: 0.0160 - val_acc: 0.1000\n",
      "Epoch 94/100\n",
      "6/6 [==============================] - 3s 574ms/step - loss: 0.0126 - acc: 0.2150 - val_loss: 0.0160 - val_acc: 0.3550\n",
      "Epoch 95/100\n",
      "6/6 [==============================] - 3s 570ms/step - loss: 0.0126 - acc: 0.4583 - val_loss: 0.0160 - val_acc: 0.3575\n",
      "Epoch 96/100\n",
      "6/6 [==============================] - 3s 574ms/step - loss: 0.0126 - acc: 0.4667 - val_loss: 0.0159 - val_acc: 0.3650\n",
      "Epoch 97/100\n",
      "6/6 [==============================] - 3s 580ms/step - loss: 0.0126 - acc: 0.4933 - val_loss: 0.0160 - val_acc: 0.3250\n",
      "Epoch 98/100\n",
      "6/6 [==============================] - 4s 591ms/step - loss: 0.0126 - acc: 0.4300 - val_loss: 0.0160 - val_acc: 0.3400\n",
      "Epoch 99/100\n",
      "6/6 [==============================] - 3s 570ms/step - loss: 0.0126 - acc: 0.4417 - val_loss: 0.0160 - val_acc: 0.3375\n",
      "Epoch 100/100\n",
      "6/6 [==============================] - 4s 620ms/step - loss: 0.0125 - acc: 0.4467 - val_loss: 0.0161 - val_acc: 0.2875\n"
     ]
    },
    {
     "data": {
      "text/plain": [
       "<keras.callbacks.History at 0x7fbe30a2de10>"
      ]
     },
     "execution_count": 24,
     "metadata": {},
     "output_type": "execute_result"
    }
   ],
   "source": [
    "model.fit(X, y, epochs=100, validation_split=0.33)"
   ]
  },
  {
   "cell_type": "code",
   "execution_count": 25,
   "metadata": {},
   "outputs": [],
   "source": [
    "model.save('my_model.h5')"
   ]
  },
  {
   "cell_type": "code",
   "execution_count": 26,
   "metadata": {},
   "outputs": [],
   "source": [
    "temp = model.predict(inp_data, verbose=0)"
   ]
  },
  {
   "cell_type": "code",
   "execution_count": 26,
   "metadata": {},
   "outputs": [
    {
     "name": "stdout",
     "output_type": "stream",
     "text": [
      "baseline.ipynb\t     __init__.py    my_model.h5    try_rnn.py\r\n",
      "broadcast_vector.py  linear_map.py  try_rnn.ipynb\r\n"
     ]
    }
   ],
   "source": [
    "!ls\n"
   ]
  },
  {
   "cell_type": "code",
   "execution_count": null,
   "metadata": {},
   "outputs": [],
   "source": []
  }
 ],
 "metadata": {
  "kernelspec": {
   "display_name": "Python 3",
   "language": "python",
   "name": "python3"
  },
  "language_info": {
   "codemirror_mode": {
    "name": "ipython",
    "version": 3
   },
   "file_extension": ".py",
   "mimetype": "text/x-python",
   "name": "python",
   "nbconvert_exporter": "python",
   "pygments_lexer": "ipython3",
   "version": "3.7.3"
  }
 },
 "nbformat": 4,
 "nbformat_minor": 2
}
