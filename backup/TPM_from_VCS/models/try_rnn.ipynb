{
 "cells": [
  {
   "cell_type": "code",
   "execution_count": 1,
   "metadata": {},
   "outputs": [
    {
     "name": "stderr",
     "output_type": "stream",
     "text": [
      "Using TensorFlow backend.\n"
     ]
    }
   ],
   "source": [
    "import keras\n",
    "import tensorflow as tf\n",
    "from tensorflow.keras import layers\n",
    "import numpy as np\n",
    "import os\n",
    "import time\n",
    "\n",
    "from keras.models import Sequential\n",
    "from keras.layers import Dense\n",
    "from keras.layers import LSTM\n",
    "from keras.layers import RepeatVector\n",
    "\n",
    "import datetime"
   ]
  },
  {
   "cell_type": "code",
   "execution_count": 2,
   "metadata": {},
   "outputs": [],
   "source": [
    "HIDDEN_SIZE = 1024\n",
    "MAX_NODES = 100\n",
    "MAX_VC_DIM = 10\n"
   ]
  },
  {
   "cell_type": "code",
   "execution_count": 3,
   "metadata": {},
   "outputs": [
    {
     "name": "stdout",
     "output_type": "stream",
     "text": [
      "WARNING:tensorflow:From /home/keshava/anaconda3/lib/python3.7/site-packages/tensorflow/python/framework/op_def_library.py:263: colocate_with (from tensorflow.python.framework.ops) is deprecated and will be removed in a future version.\n",
      "Instructions for updating:\n",
      "Colocations handled automatically by placer.\n",
      "_________________________________________________________________\n",
      "Layer (type)                 Output Shape              Param #   \n",
      "=================================================================\n",
      "lstm_1 (LSTM)                (None, 1024)              4239360   \n",
      "_________________________________________________________________\n",
      "repeat_vector_1 (RepeatVecto (None, 100, 1024)         0         \n",
      "_________________________________________________________________\n",
      "lstm_2 (LSTM)                (None, 100, 1024)         8392704   \n",
      "_________________________________________________________________\n",
      "dense_1 (Dense)              (None, 100, 10)           10250     \n",
      "=================================================================\n",
      "Total params: 12,642,314\n",
      "Trainable params: 12,642,314\n",
      "Non-trainable params: 0\n",
      "_________________________________________________________________\n"
     ]
    }
   ],
   "source": [
    "# create and fit the LSTM network\n",
    "model = Sequential()\n",
    "model.add(LSTM(HIDDEN_SIZE, input_shape=(MAX_NODES, MAX_VC_DIM)))\n",
    "model.add(RepeatVector(MAX_NODES))\n",
    "model.add(LSTM(HIDDEN_SIZE, return_sequences=True))\n",
    "model.add(Dense(MAX_VC_DIM))\n",
    "\n",
    "model.compile(loss='mean_squared_error',\n",
    "              optimizer='adam',\n",
    "              metrics=['accuracy'])\n",
    "model.summary()"
   ]
  },
  {
   "cell_type": "code",
   "execution_count": 4,
   "metadata": {},
   "outputs": [],
   "source": [
    "data = np.load('../../../expt/datasets/2019-05-28 11:37:37.368580_30.npy')"
   ]
  },
  {
   "cell_type": "code",
   "execution_count": 5,
   "metadata": {},
   "outputs": [],
   "source": [
    "X, y = data[0], data[1]"
   ]
  },
  {
   "cell_type": "code",
   "execution_count": 7,
   "metadata": {},
   "outputs": [
    {
     "data": {
      "text/plain": [
       "(30, 100, 10)"
      ]
     },
     "execution_count": 7,
     "metadata": {},
     "output_type": "execute_result"
    }
   ],
   "source": [
    "X.shape"
   ]
  },
  {
   "cell_type": "code",
   "execution_count": 8,
   "metadata": {},
   "outputs": [
    {
     "name": "stdout",
     "output_type": "stream",
     "text": [
      "WARNING:tensorflow:From /home/keshava/anaconda3/lib/python3.7/site-packages/tensorflow/python/ops/math_ops.py:3066: to_int32 (from tensorflow.python.ops.math_ops) is deprecated and will be removed in a future version.\n",
      "Instructions for updating:\n",
      "Use tf.cast instead.\n",
      "Train on 20 samples, validate on 10 samples\n",
      "Epoch 1/10\n",
      "20/20 [==============================] - 8s 387ms/step - loss: 0.0116 - acc: 0.0475 - val_loss: 0.0106 - val_acc: 0.6770\n",
      "Epoch 2/10\n",
      "20/20 [==============================] - 6s 281ms/step - loss: 0.0119 - acc: 0.6805 - val_loss: 0.0105 - val_acc: 0.5980\n",
      "Epoch 3/10\n",
      "20/20 [==============================] - 6s 281ms/step - loss: 0.0117 - acc: 0.6605 - val_loss: 0.0105 - val_acc: 0.0000e+00\n",
      "Epoch 4/10\n",
      "20/20 [==============================] - 6s 283ms/step - loss: 0.0117 - acc: 0.0000e+00 - val_loss: 0.0105 - val_acc: 0.0000e+00\n",
      "Epoch 5/10\n",
      "20/20 [==============================] - 6s 292ms/step - loss: 0.0117 - acc: 0.0165 - val_loss: 0.0105 - val_acc: 0.0000e+00\n",
      "Epoch 6/10\n",
      "20/20 [==============================] - 6s 288ms/step - loss: 0.0116 - acc: 0.0200 - val_loss: 0.0105 - val_acc: 0.6640\n",
      "Epoch 7/10\n",
      "20/20 [==============================] - 6s 285ms/step - loss: 0.0116 - acc: 0.6635 - val_loss: 0.0105 - val_acc: 0.6770\n",
      "Epoch 8/10\n",
      "20/20 [==============================] - 6s 300ms/step - loss: 0.0117 - acc: 0.6805 - val_loss: 0.0105 - val_acc: 0.6770\n",
      "Epoch 9/10\n",
      "20/20 [==============================] - 6s 295ms/step - loss: 0.0116 - acc: 0.6805 - val_loss: 0.0105 - val_acc: 0.6190\n",
      "Epoch 10/10\n",
      "20/20 [==============================] - 6s 290ms/step - loss: 0.0116 - acc: 0.6435 - val_loss: 0.0105 - val_acc: 0.0000e+00\n"
     ]
    },
    {
     "data": {
      "text/plain": [
       "<keras.callbacks.History at 0x7f6fab5862b0>"
      ]
     },
     "execution_count": 8,
     "metadata": {},
     "output_type": "execute_result"
    }
   ],
   "source": [
    "model.fit(X, y, epochs=10, validation_split=0.33)"
   ]
  },
  {
   "cell_type": "code",
   "execution_count": 9,
   "metadata": {},
   "outputs": [
    {
     "name": "stdout",
     "output_type": "stream",
     "text": [
      "/home/keshava/Desktop/TPM_from_VCS/expt/TPM_from_VCS/models\r\n"
     ]
    }
   ],
   "source": [
    "!pwd"
   ]
  },
  {
   "cell_type": "code",
   "execution_count": 25,
   "metadata": {},
   "outputs": [],
   "source": [
    "model.save(str(datetime.datetime.now()) + '.h5')"
   ]
  },
  {
   "cell_type": "code",
   "execution_count": null,
   "metadata": {},
   "outputs": [],
   "source": []
  }
 ],
 "metadata": {
  "kernelspec": {
   "display_name": "Python 3",
   "language": "python",
   "name": "python3"
  },
  "language_info": {
   "codemirror_mode": {
    "name": "ipython",
    "version": 3
   },
   "file_extension": ".py",
   "mimetype": "text/x-python",
   "name": "python",
   "nbconvert_exporter": "python",
   "pygments_lexer": "ipython3",
   "version": "3.7.3"
  }
 },
 "nbformat": 4,
 "nbformat_minor": 2
}
