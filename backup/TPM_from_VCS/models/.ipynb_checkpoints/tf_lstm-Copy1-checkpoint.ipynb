{
 "cells": [
  {
   "cell_type": "code",
   "execution_count": 1,
   "metadata": {},
   "outputs": [
    {
     "name": "stderr",
     "output_type": "stream",
     "text": [
      "Using TensorFlow backend.\n"
     ]
    }
   ],
   "source": [
    "\n",
    "import tensorflow as tf\n",
    "\n",
    "\n",
    "\n",
    "import numpy as np\n",
    "import os\n",
    "import time\n",
    "\n",
    "\n",
    "import datetime\n",
    "\n",
    "from etp import etp\n",
    "from keras import backend as K\n"
   ]
  },
  {
   "cell_type": "code",
   "execution_count": 16,
   "metadata": {},
   "outputs": [],
   "source": [
    "units = 64\n",
    "number_of_layers = 1\n",
    "\n",
    "\n",
    "\n",
    "MAX_NODES = 1000\n",
    "MAX_VC_DIM = 10\n",
    "batch_size = MAX_NODES\n",
    "\n",
    "NAME = \"double_lstm_encdec_{}\".format(str(datetime.datetime.now()))\n",
    "data_path = '../../datasets/2019-05-29 14:16:06.689081_100.npy'\n",
    "# tensorboard = TensorBoard(log_dir='logs/{}'.format(NAME))"
   ]
  },
  {
   "cell_type": "code",
   "execution_count": 17,
   "metadata": {},
   "outputs": [],
   "source": [
    "data = np.load(data_path)\n",
    "X, y, phy_coordinates = data[0], data[1], data[2]"
   ]
  },
  {
   "cell_type": "code",
   "execution_count": 18,
   "metadata": {},
   "outputs": [
    {
     "data": {
      "text/plain": [
       "(101000, 10)"
      ]
     },
     "execution_count": 18,
     "metadata": {},
     "output_type": "execute_result"
    }
   ],
   "source": [
    "X.shape"
   ]
  },
  {
   "cell_type": "code",
   "execution_count": 19,
   "metadata": {},
   "outputs": [
    {
     "data": {
      "text/plain": [
       "(10,)"
      ]
     },
     "execution_count": 19,
     "metadata": {},
     "output_type": "execute_result"
    }
   ],
   "source": [
    "X[1].shape"
   ]
  },
  {
   "cell_type": "code",
   "execution_count": 20,
   "metadata": {},
   "outputs": [],
   "source": [
    "def loss_function(y_true, y_pred):\n",
    "    print('ETP: Matrix y_true shape: {}'.format(y_true.shape))\n",
    "    print('ETP: Matrix y_pred shape: {}'.format(y_pred.shape))\n",
    "    \n",
    "\n",
    "    ans = etp.get_best_etp((y_true), y_pred[:, 0:y_true.shape[0], 0:2])\n",
    "    return ans\n",
    "\n",
    "def lstm_cell():\n",
    "    return tf.nn.rnn_cell.BasicRNNCell(units) # number of output cells\n",
    "\n",
    "lstm = lstm_cell()\n",
    "rnn_cell = tf.nn.rnn_cell.BasicRNNCell(units)\n",
    "inputs = tf.placeholder(tf.float32, [MAX_NODES, MAX_VC_DIM, batch_size])\n",
    "initial_state = state = rnn_cell.zero_state(MAX_VC_DIM, dtype=tf.float32)\n"
   ]
  },
  {
   "cell_type": "code",
   "execution_count": 21,
   "metadata": {},
   "outputs": [
    {
     "name": "stdout",
     "output_type": "stream",
     "text": [
      "(1000, 10, 1000)\n"
     ]
    }
   ],
   "source": [
    "print(inputs.shape)"
   ]
  },
  {
   "cell_type": "markdown",
   "metadata": {},
   "source": [
    "outputs, state = tf.nn.dynamic_rnn(rnn_cell, inputs,\n",
    "                                   initial_state=initial_state,\n",
    "                                   dtype=tf.float32,\n",
    "                                   sequence_length=inputs.shape[0], \n",
    "                                   time_major=True)"
   ]
  },
  {
   "cell_type": "code",
   "execution_count": 22,
   "metadata": {},
   "outputs": [
    {
     "data": {
      "text/plain": [
       "TensorShape([Dimension(10), Dimension(1000)])"
      ]
     },
     "execution_count": 22,
     "metadata": {},
     "output_type": "execute_result"
    }
   ],
   "source": [
    "inputs[0, :, :].shape"
   ]
  },
  {
   "cell_type": "code",
   "execution_count": 23,
   "metadata": {},
   "outputs": [],
   "source": [
    "out = lstm(inputs[0, :, :], initial_state)"
   ]
  },
  {
   "cell_type": "code",
   "execution_count": null,
   "metadata": {},
   "outputs": [],
   "source": [
    "ans = "
   ]
  },
  {
   "cell_type": "code",
   "execution_count": 26,
   "metadata": {},
   "outputs": [],
   "source": [
    "for i in range(0, MAX_NODES):\n",
    "    # The value of state is updated after processing each batch of words.\n",
    "    output, state = lstm(inputs[i, :, :], state)\n",
    "    \n",
    "    # do some processing\n",
    "    # some neural network will take this thing in, and spit out two coordinates.\n",
    "    \n",
    "    # MLP definition : takes in MAX_VC_DIM x UNITS ==> 2 numbers finally\n",
    "    \n",
    "    \n",
    "    \n",
    "\n"
   ]
  },
  {
   "cell_type": "code",
   "execution_count": 25,
   "metadata": {},
   "outputs": [
    {
     "data": {
      "text/plain": [
       "TensorShape([Dimension(10), Dimension(64)])"
      ]
     },
     "execution_count": 25,
     "metadata": {},
     "output_type": "execute_result"
    }
   ],
   "source": [
    "output.shape"
   ]
  },
  {
   "cell_type": "code",
   "execution_count": null,
   "metadata": {},
   "outputs": [],
   "source": []
  }
 ],
 "metadata": {
  "kernelspec": {
   "display_name": "Python 3",
   "language": "python",
   "name": "python3"
  },
  "language_info": {
   "codemirror_mode": {
    "name": "ipython",
    "version": 3
   },
   "file_extension": ".py",
   "mimetype": "text/x-python",
   "name": "python",
   "nbconvert_exporter": "python",
   "pygments_lexer": "ipython3",
   "version": "3.7.3"
  }
 },
 "nbformat": 4,
 "nbformat_minor": 2
}
