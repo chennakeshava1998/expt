{
 "cells": [
  {
   "cell_type": "markdown",
   "metadata": {},
   "source": [
    "https://www.tensorflow.org/guide/eager#object_based_saving"
   ]
  },
  {
   "cell_type": "code",
   "execution_count": 1,
   "metadata": {},
   "outputs": [],
   "source": [
    "import tensorflow as tf\n",
    "from TPM_from_VCS.data import toy_data_generator\n",
    "from TPM_from_VCS.models.etp import etp\n",
    "import numpy as np\n"
   ]
  },
  {
   "cell_type": "code",
   "execution_count": 3,
   "metadata": {
    "scrolled": true
   },
   "outputs": [
    {
     "name": "stdout",
     "output_type": "stream",
     "text": [
      "WARNING:tensorflow:From /home/keshava/anaconda3/lib/python3.7/site-packages/tensorflow/python/framework/op_def_library.py:263: colocate_with (from tensorflow.python.framework.ops) is deprecated and will be removed in a future version.\n",
      "Instructions for updating:\n",
      "Colocations handled automatically by placer.\n"
     ]
    }
   ],
   "source": [
    "class Model(tf.keras.Model):\n",
    "  def __init__(self):\n",
    "    super(Model, self).__init__()\n",
    "    self.W = tf.Variable(tf.random_normal((2, 5), dtype=tf.float32), name='weight', trainable=True)\n",
    "    self.B = tf.Variable(tf.random_normal((2, 1), dtype=tf.float32), name='bias', trainable=True)\n",
    "\n",
    "    \n",
    "  def call(self, inputs):\n",
    "    ans = []\n",
    "\n",
    "    for i in range(0,inputs.shape[0],5):\n",
    "        inp = [inputs[i], inputs[i+1], inputs[i+2], inputs[i+3], inputs[i+4]]\n",
    "        ans.append(tf.add(tf.matmul(self.W, tf.reshape(inp, (5, -1))), self.B))\n",
    "    return ans\n",
    "\n",
    "# The loss function to be optimized\n",
    "def loss(model, inputs, targets):\n",
    "  ans = etp.get_best_etp(model(inputs), targets)\n",
    "  \n",
    "\n",
    "  return ans\n",
    "\n",
    "def grad(model, inputs, targets):\n",
    "  with tf.GradientTape(persistent=True) as tape:\n",
    "    loss_value = loss(model, inputs, tf.cast(targets, dtype=tf.float64))\n",
    "  return tape.gradient(loss_value, [model.W, model.B])\n",
    "\n",
    "def modulate_loss(loss_value, inputs):\n",
    "    return loss_value/inputs.shape[0]\n",
    "    \n",
    "\n",
    "def temp_grad(model, inputs, targets):\n",
    "    loss_value = loss(model, inputs, tf.cast(targets, dtype=tf.float64))\n",
    "    loss_value = modulate_loss(loss_value, inputs)\n",
    "    w_grad = tf.ones((2, 5), dtype=tf.float32) * tf.cast(loss_value, dtype=tf.float32)\n",
    "    b_grad = tf.ones((2, 1), dtype=tf.float32) * tf.cast(loss_value, dtype=tf.float32)\n",
    "    \n",
    "    tf.summary.histogram(\"weight_gradients\", w_grad)\n",
    "    tf.summary.histogram(\"bias_gradients\", b_grad)\n",
    "    \n",
    "    return [w_grad, b_grad]\n",
    "    \n",
    "\n",
    "# Define:\n",
    "# 1. A model.\n",
    "# 2. Derivatives of a loss function with respect to model parameters.\n",
    "# 3. A strategy for updating the variables based on the derivatives.\n",
    "model = Model()\n",
    "optimizer = tf.train.GradientDescentOptimizer(learning_rate=0.01) # use Adam later\n"
   ]
  },
  {
   "cell_type": "code",
   "execution_count": 4,
   "metadata": {},
   "outputs": [],
   "source": [
    "a = toy_data_generator.create_dataset(1)\n",
    "training_inputs = a[0][0]\n",
    "training_outputs = a[0][1]"
   ]
  },
  {
   "cell_type": "code",
   "execution_count": null,
   "metadata": {
    "scrolled": true
   },
   "outputs": [
    {
     "name": "stdout",
     "output_type": "stream",
     "text": [
      "WARNING:tensorflow:From /home/keshava/anaconda3/lib/python3.7/site-packages/tensorflow/python/util/tf_should_use.py:193: initialize_all_variables (from tensorflow.python.ops.variables) is deprecated and will be removed after 2017-03-02.\n",
      "Instructions for updating:\n",
      "Use `tf.global_variables_initializer` instead.\n",
      "Loss at step 0: Tensor(\"cond_3599/Merge:0\", shape=(), dtype=float64)\n",
      "Loss at step 2: Tensor(\"cond_12599/Merge:0\", shape=(), dtype=float64)\n"
     ]
    }
   ],
   "source": [
    "# Training loop\n",
    "with tf.Session() as sess:\n",
    "    init_op = tf.initialize_all_variables()\n",
    "    loss_history = []\n",
    "    for j in range(1):\n",
    "        for i in range(1):\n",
    "          grads = temp_grad(model, training_inputs, training_outputs)\n",
    "          optimizer.apply_gradients(zip(grads, [model.W, model.B]),\n",
    "                                    global_step=tf.train.get_or_create_global_step())\n",
    "          if i % 2 == 0:\n",
    "            print(\"Loss at step {}: {}\".format(i, loss(model, training_inputs, training_outputs)))\n",
    "\n",
    "          loss_history.append(loss(model, training_inputs, training_outputs))\n",
    "\n",
    "        a = toy_data_generator.create_dataset(1)\n",
    "        training_inputs = a[0][0]\n",
    "        training_outputs = a[0][1]\n",
    "\n",
    "#     print(\"Final loss: {:.3f}\".format(loss(model, training_inputs, training_outputs)))\n",
    "#     print(\"W = {}, B = {}\".format(model.W.numpy(), model.B.numpy()))\n",
    "    \n",
    "    sess.run(init_op)\n",
    "    loss_history = sess.run(loss_history)\n",
    "\n",
    "#     merge, final_loss = sess.run([merge, model.loss])"
   ]
  },
  {
   "cell_type": "code",
   "execution_count": null,
   "metadata": {},
   "outputs": [],
   "source": [
    "len(loss_history)"
   ]
  },
  {
   "cell_type": "code",
   "execution_count": null,
   "metadata": {},
   "outputs": [],
   "source": [
    "loss_history"
   ]
  },
  {
   "cell_type": "markdown",
   "metadata": {},
   "source": [
    "https://www.tensorflow.org/guide/summaries_and_tensorboard   : use tensorboard"
   ]
  },
  {
   "cell_type": "markdown",
   "metadata": {},
   "source": [
    "https://stackoverflow.com/questions/40050397/deep-learning-nan-loss-reasons"
   ]
  }
 ],
 "metadata": {
  "kernelspec": {
   "display_name": "Python 3",
   "language": "python",
   "name": "python3"
  }
 },
 "nbformat": 4,
 "nbformat_minor": 2
}
